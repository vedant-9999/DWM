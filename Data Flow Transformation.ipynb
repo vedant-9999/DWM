{
 "cells": [
  {
   "cell_type": "code",
   "execution_count": null,
   "id": "77bae81a-cec3-4b0d-8e4a-cb667893b667",
   "metadata": {},
   "outputs": [],
   "source": [
    "#Name: Vedant Lokhande\n",
    "#PRN: 22070521160"
   ]
  },
  {
   "cell_type": "code",
   "execution_count": 2,
   "id": "20c2e498-f7b0-4f86-88b8-00bb1c799379",
   "metadata": {},
   "outputs": [],
   "source": [
    "import pandas as pd"
   ]
  },
  {
   "cell_type": "code",
   "execution_count": 3,
   "id": "fc45c5b8-8881-44f5-bdb9-241ecfed6df2",
   "metadata": {},
   "outputs": [],
   "source": [
    "#Input Data"
   ]
  },
  {
   "cell_type": "code",
   "execution_count": 4,
   "id": "fa3fff8a-b9a0-46dc-ad3d-414cee2fcca5",
   "metadata": {},
   "outputs": [],
   "source": [
    "data = {\n",
    "    'ID': [1,2,3,4,5,6],\n",
    "    'Name': ['Arjun', 'Sonam', 'Raju', 'Tushar', 'Akshay', 'Rishil'],\n",
    "    'Age': [25, 30, 35, 40, 22, 29],\n",
    "    'Country': ['Maharashtra', 'UP', 'Gujrat', 'Rajasthan', 'Kerela', 'Punjab'],\n",
    "    'Sales': [200, 450, 300, 800, 150, 400]\n",
    "}"
   ]
  },
  {
   "cell_type": "code",
   "execution_count": 6,
   "id": "d2373b6e-2f9a-466b-af3a-8061d3e6c7aa",
   "metadata": {},
   "outputs": [
    {
     "name": "stdout",
     "output_type": "stream",
     "text": [
      "Original Dataset:\n",
      "   ID    Name  Age      Country  Sales\n",
      "0   1   Arjun   25  Maharashtra    200\n",
      "1   2   Sonam   30           UP    450\n",
      "2   3    Raju   35       Gujrat    300\n",
      "3   4  Tushar   40    Rajasthan    800\n",
      "4   5  Akshay   22       Kerela    150\n",
      "5   6  Rishil   29       Punjab    400\n"
     ]
    }
   ],
   "source": [
    "#Create Dataframe\n",
    "df = pd.DataFrame(data)\n",
    "print(\"Original Dataset:\")\n",
    "print(df)"
   ]
  },
  {
   "cell_type": "code",
   "execution_count": 7,
   "id": "f9ec980e-6c99-4fad-9ffd-fb519d74b3ef",
   "metadata": {},
   "outputs": [],
   "source": [
    "#Data Flow Transformations"
   ]
  },
  {
   "cell_type": "code",
   "execution_count": 8,
   "id": "9a97e5b1-7842-4814-a1f4-9bc30af61692",
   "metadata": {},
   "outputs": [],
   "source": [
    "#Character Map\n",
    "#Description: Transform text data by changing the case of characters.\n",
    "# Here, we will convert the name column to uppercase"
   ]
  },
  {
   "cell_type": "code",
   "execution_count": 9,
   "id": "64963a08-2792-42bf-91bd-0b4f0f9ee0f4",
   "metadata": {},
   "outputs": [
    {
     "name": "stdout",
     "output_type": "stream",
     "text": [
      "\n",
      "Character Map (Uppercase Names):\n",
      "   ID    Name Name_Upper\n",
      "0   1   Arjun      ARJUN\n",
      "1   2   Sonam      SONAM\n",
      "2   3    Raju       RAJU\n",
      "3   4  Tushar     TUSHAR\n",
      "4   5  Akshay     AKSHAY\n",
      "5   6  Rishil     RISHIL\n"
     ]
    }
   ],
   "source": [
    "df['Name_Upper'] = df['Name'].str.upper()\n",
    "print(\"\\nCharacter Map (Uppercase Names):\")\n",
    "print(df[['ID', 'Name', 'Name_Upper']])"
   ]
  },
  {
   "cell_type": "code",
   "execution_count": 10,
   "id": "e36f229c-ae70-4a98-a652-e0be67877b5c",
   "metadata": {},
   "outputs": [
    {
     "name": "stdout",
     "output_type": "stream",
     "text": [
      "\n",
      "Multicast (Modified Copies:\n",
      "Copy 1 (Sales Increased):\n",
      "   ID    Name  Age      Country  Sales Name_Upper\n",
      "0   1   Arjun   25  Maharashtra  220.0      ARJUN\n",
      "1   2   Sonam   30           UP  495.0      SONAM\n",
      "2   3    Raju   35       Gujrat  330.0       RAJU\n",
      "3   4  Tushar   40    Rajasthan  880.0     TUSHAR\n",
      "4   5  Akshay   22       Kerela  165.0     AKSHAY\n",
      "5   6  Rishil   29       Punjab  440.0     RISHIL\n",
      "\n",
      "Copy2 (Age Increased):\n",
      "   ID    Name  Age      Country  Sales Name_Upper\n",
      "0   1   Arjun   30  Maharashtra    200      ARJUN\n",
      "1   2   Sonam   35           UP    450      SONAM\n",
      "2   3    Raju   40       Gujrat    300       RAJU\n",
      "3   4  Tushar   45    Rajasthan    800     TUSHAR\n",
      "4   5  Akshay   27       Kerela    150     AKSHAY\n",
      "5   6  Rishil   34       Punjab    400     RISHIL\n"
     ]
    }
   ],
   "source": [
    "# Multicast: Create two copies of the dataset\n",
    "df_copy1 = df.copy()\n",
    "df_copy2 = df.copy()\n",
    "\n",
    "#Transformations on each copy\n",
    "df_copy1['Sales'] *= 1.1 #Increase sales by 10%\n",
    "df_copy2['Age'] += 5 #Increase age by 5 years\n",
    "\n",
    "print(\"\\nMulticast (Modified Copies:\")\n",
    "print(\"Copy 1 (Sales Increased):\")\n",
    "print(df_copy1)\n",
    "print(\"\\nCopy2 (Age Increased):\")\n",
    "print(df_copy2)"
   ]
  },
  {
   "cell_type": "code",
   "execution_count": 11,
   "id": "eee6ba26-fd40-4171-a379-4c7454407b50",
   "metadata": {},
   "outputs": [],
   "source": [
    "# Conditional Split\n",
    "#Description: Split data based on a condition"
   ]
  },
  {
   "cell_type": "code",
   "execution_count": 12,
   "id": "f6a7fb48-8fa6-4655-8bcd-e738d80b98f0",
   "metadata": {},
   "outputs": [
    {
     "name": "stdout",
     "output_type": "stream",
     "text": [
      "\n",
      "Conditional Split:\n",
      "High Sales:\n",
      "   ID    Name  Age    Country  Sales Name_Upper\n",
      "1   2   Sonam   30         UP    450      SONAM\n",
      "3   4  Tushar   40  Rajasthan    800     TUSHAR\n",
      "5   6  Rishil   29     Punjab    400     RISHIL\n",
      "Low Sales:\n",
      "   ID    Name  Age      Country  Sales Name_Upper\n",
      "0   1   Arjun   25  Maharashtra    200      ARJUN\n",
      "2   3    Raju   35       Gujrat    300       RAJU\n",
      "4   5  Akshay   22       Kerela    150     AKSHAY\n"
     ]
    }
   ],
   "source": [
    "#Conditional Split: Sales > 300\n",
    "high_sales = df[df['Sales']>300]\n",
    "low_sales = df[df['Sales']<=300]\n",
    "print(\"\\nConditional Split:\")\n",
    "print(\"High Sales:\")\n",
    "print(high_sales)\n",
    "print(\"Low Sales:\")\n",
    "print(low_sales)"
   ]
  },
  {
   "cell_type": "code",
   "execution_count": 13,
   "id": "59ce3087-c55a-4f59-b447-fb8ab17bb7e2",
   "metadata": {},
   "outputs": [
    {
     "name": "stdout",
     "output_type": "stream",
     "text": [
      "\n",
      "Aggregation (Total Sales by Country):\n",
      "       Country  Sales\n",
      "0       Gujrat    300\n",
      "1       Kerela    150\n",
      "2  Maharashtra    200\n",
      "3       Punjab    400\n",
      "4    Rajasthan    800\n",
      "5           UP    450\n"
     ]
    }
   ],
   "source": [
    "#Aggregation\n",
    "#Description: Aggregate data, e.g., cakculate total sales by country.\n",
    "# Aggregation : Total sales by Country\n",
    "agg_df = df.groupby('Country')['Sales'].sum().reset_index()\n",
    "print(\"\\nAggregation (Total Sales by Country):\")\n",
    "print(agg_df)"
   ]
  },
  {
   "cell_type": "code",
   "execution_count": 14,
   "id": "9c595d43-2d46-466b-b5cc-5e082692d3d3",
   "metadata": {},
   "outputs": [
    {
     "name": "stdout",
     "output_type": "stream",
     "text": [
      "\n",
      " Sort (Descending Sales):\n",
      "   ID    Name  Age      Country  Sales Name_Upper\n",
      "3   4  Tushar   40    Rajasthan    800     TUSHAR\n",
      "1   2   Sonam   30           UP    450      SONAM\n",
      "5   6  Rishil   29       Punjab    400     RISHIL\n",
      "2   3    Raju   35       Gujrat    300       RAJU\n",
      "0   1   Arjun   25  Maharashtra    200      ARJUN\n",
      "4   5  Akshay   22       Kerela    150     AKSHAY\n"
     ]
    }
   ],
   "source": [
    "#sort\n",
    "#Description: Sort the dataset by Sales in descending order.\n",
    "#Sort: Sort by Sales in descending order\n",
    "sorted_df = df.sort_values(by='Sales', ascending = False)\n",
    "print(\"\\n Sort (Descending Sales):\")\n",
    "print(sorted_df)"
   ]
  },
  {
   "cell_type": "code",
   "execution_count": 15,
   "id": "88985541-7cf6-43f9-b196-51fa793fa789",
   "metadata": {},
   "outputs": [],
   "source": [
    "#Derived Column\n",
    "#Description: Create a new column by deriving information from existing data."
   ]
  },
  {
   "cell_type": "code",
   "execution_count": 16,
   "id": "ec6a2d3d-d657-45ec-b7c4-24cdb03123e5",
   "metadata": {},
   "outputs": [
    {
     "name": "stdout",
     "output_type": "stream",
     "text": [
      "\n",
      "Derived Column (Sales Category):\n",
      "   ID    Name  Sales Sales_Category\n",
      "0   1   Arjun    200            Low\n",
      "1   2   Sonam    450           High\n",
      "2   3    Raju    300            Low\n",
      "3   4  Tushar    800           High\n",
      "4   5  Akshay    150            Low\n",
      "5   6  Rishil    400           High\n"
     ]
    }
   ],
   "source": [
    "#Derived Column: Categorize sales as 'High' or 'Low'\n",
    "df['Sales_Category'] = df['Sales'].apply(lambda x: 'High' if x > 300 else 'Low')\n",
    "print(\"\\nDerived Column (Sales Category):\")\n",
    "print(df[['ID', 'Name', 'Sales', 'Sales_Category']])"
   ]
  },
  {
   "cell_type": "code",
   "execution_count": null,
   "id": "b765bc6c-8837-4bb9-b78a-b1c3ba6f6933",
   "metadata": {},
   "outputs": [],
   "source": []
  }
 ],
 "metadata": {
  "kernelspec": {
   "display_name": "Python 3 (ipykernel)",
   "language": "python",
   "name": "python3"
  },
  "language_info": {
   "codemirror_mode": {
    "name": "ipython",
    "version": 3
   },
   "file_extension": ".py",
   "mimetype": "text/x-python",
   "name": "python",
   "nbconvert_exporter": "python",
   "pygments_lexer": "ipython3",
   "version": "3.12.7"
  }
 },
 "nbformat": 4,
 "nbformat_minor": 5
}
