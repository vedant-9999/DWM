{
  "nbformat": 4,
  "nbformat_minor": 0,
  "metadata": {
    "colab": {
      "provenance": []
    },
    "kernelspec": {
      "name": "python3",
      "display_name": "Python 3"
    },
    "language_info": {
      "name": "python"
    }
  },
  "cells": [
    {
      "cell_type": "code",
      "execution_count": 1,
      "metadata": {
        "id": "GBd2_Gih3rmD"
      },
      "outputs": [],
      "source": [
        "import pandas as pd\n",
        "import numpy as np"
      ]
    },
    {
      "cell_type": "code",
      "source": [
        "dataset = pd.read_excel('/content/Employee_Data.xls')"
      ],
      "metadata": {
        "id": "Qv0eMD82vxmx"
      },
      "execution_count": 2,
      "outputs": []
    },
    {
      "cell_type": "code",
      "source": [
        "dataset.isnull().sum()"
      ],
      "metadata": {
        "colab": {
          "base_uri": "https://localhost:8080/",
          "height": 303
        },
        "id": "r9iSSAzAv2lp",
        "outputId": "fb73eeaf-8b30-402e-c0b5-26504e981fe2"
      },
      "execution_count": 3,
      "outputs": [
        {
          "output_type": "execute_result",
          "data": {
            "text/plain": [
              "Employee Id     0\n",
              "First Name      0\n",
              "Last Name       0\n",
              "Department      9\n",
              "Age             6\n",
              "Experience     13\n",
              "Salary          0\n",
              "dtype: int64"
            ],
            "text/html": [
              "<div>\n",
              "<style scoped>\n",
              "    .dataframe tbody tr th:only-of-type {\n",
              "        vertical-align: middle;\n",
              "    }\n",
              "\n",
              "    .dataframe tbody tr th {\n",
              "        vertical-align: top;\n",
              "    }\n",
              "\n",
              "    .dataframe thead th {\n",
              "        text-align: right;\n",
              "    }\n",
              "</style>\n",
              "<table border=\"1\" class=\"dataframe\">\n",
              "  <thead>\n",
              "    <tr style=\"text-align: right;\">\n",
              "      <th></th>\n",
              "      <th>0</th>\n",
              "    </tr>\n",
              "  </thead>\n",
              "  <tbody>\n",
              "    <tr>\n",
              "      <th>Employee Id</th>\n",
              "      <td>0</td>\n",
              "    </tr>\n",
              "    <tr>\n",
              "      <th>First Name</th>\n",
              "      <td>0</td>\n",
              "    </tr>\n",
              "    <tr>\n",
              "      <th>Last Name</th>\n",
              "      <td>0</td>\n",
              "    </tr>\n",
              "    <tr>\n",
              "      <th>Department</th>\n",
              "      <td>9</td>\n",
              "    </tr>\n",
              "    <tr>\n",
              "      <th>Age</th>\n",
              "      <td>6</td>\n",
              "    </tr>\n",
              "    <tr>\n",
              "      <th>Experience</th>\n",
              "      <td>13</td>\n",
              "    </tr>\n",
              "    <tr>\n",
              "      <th>Salary</th>\n",
              "      <td>0</td>\n",
              "    </tr>\n",
              "  </tbody>\n",
              "</table>\n",
              "</div><br><label><b>dtype:</b> int64</label>"
            ]
          },
          "metadata": {},
          "execution_count": 3
        }
      ]
    },
    {
      "cell_type": "code",
      "source": [
        "x=dataset.iloc[:,3:6].values"
      ],
      "metadata": {
        "id": "OHLVU2FowBSk"
      },
      "execution_count": 4,
      "outputs": []
    },
    {
      "cell_type": "code",
      "source": [
        "x"
      ],
      "metadata": {
        "colab": {
          "base_uri": "https://localhost:8080/"
        },
        "id": "Wp9pcHkWwC9z",
        "outputId": "69095ce5-8217-450a-d395-026fc88e8fd7"
      },
      "execution_count": 5,
      "outputs": [
        {
          "output_type": "execute_result",
          "data": {
            "text/plain": [
              "array([['Asset Management', 38.0, 23.0],\n",
              "       ['Customer Service', 26.0, 10.0],\n",
              "       ['Human Resources', nan, 14.0],\n",
              "       ['Public Relations', nan, 12.0],\n",
              "       ['Customer Service', nan, 13.0],\n",
              "       ['Advertising', nan, 9.0],\n",
              "       ['Research and Development', nan, 24.0],\n",
              "       ['Asset Management', nan, 2.0],\n",
              "       ['Legal Department', 40.0, 30.0],\n",
              "       ['Advertising', 24.0, 23.0],\n",
              "       ['Legal Department', 35.0, 3.0],\n",
              "       [nan, 31.0, nan],\n",
              "       [nan, 58.0, nan],\n",
              "       [nan, 51.0, nan],\n",
              "       [nan, 27.0, nan],\n",
              "       [nan, 54.0, nan],\n",
              "       [nan, 55.0, nan],\n",
              "       ['Media Relations', 58.0, nan],\n",
              "       ['Research and Development', 59.0, nan],\n",
              "       ['Media Relations', 45.0, 4.0],\n",
              "       ['Sales and Marketing', 50.0, 2.0],\n",
              "       ['Advertising', 55.0, 19.0],\n",
              "       ['Tech Support', 40.0, 20.0],\n",
              "       ['Advertising', 51.0, 21.0],\n",
              "       ['Media Relations', 24.0, 12.0],\n",
              "       ['Asset Management', 57.0, 25.0],\n",
              "       ['Legal Department', 24.0, 9.0],\n",
              "       ['Public Relations', 46.0, 6.0],\n",
              "       ['Asset Management', 29.0, 26.0],\n",
              "       ['Customer Relations', 46.0, 13.0],\n",
              "       ['Quality Assurance', 30.0, 29.0],\n",
              "       ['Accounting', 57.0, nan],\n",
              "       [nan, 47.0, nan],\n",
              "       [nan, 41.0, nan],\n",
              "       [nan, 50.0, nan],\n",
              "       ['Public Relations', 49.0, nan],\n",
              "       ['Customer Relations', 28.0, 6.0],\n",
              "       ['Public Relations', 44.0, 29.0],\n",
              "       ['Finances', 40.0, 19.0],\n",
              "       ['Advertising', 30.0, 25.0],\n",
              "       ['Finances', 56.0, 21.0],\n",
              "       ['Accounting', 26.0, 24.0],\n",
              "       ['Finances', 44.0, 16.0],\n",
              "       ['Payroll', 36.0, 28.0],\n",
              "       ['Tech Support', 43.0, 24.0],\n",
              "       ['Finances', 47.0, 15.0],\n",
              "       ['Finances', 29.0, 11.0],\n",
              "       ['Customer Service', 52.0, 7.0],\n",
              "       ['Customer Relations', 42.0, 23.0],\n",
              "       ['Tech Support', 44.0, 5.0],\n",
              "       ['Finances', 23.0, 8.0],\n",
              "       ['Payroll', 57.0, 16.0],\n",
              "       ['Asset Management', 40.0, 9.0],\n",
              "       ['Media Relations', 28.0, 24.0],\n",
              "       ['Advertising', 53.0, 7.0],\n",
              "       ['Accounting', 56.0, 3.0],\n",
              "       ['Customer Relations', 48.0, 20.0],\n",
              "       ['Customer Service', 54.0, 7.0],\n",
              "       ['Media Relations', 37.0, 2.0],\n",
              "       ['Advertising', 57.0, 8.0],\n",
              "       ['Human Resources', 50.0, 17.0],\n",
              "       ['Legal Department', 46.0, 9.0],\n",
              "       ['Media Relations', 28.0, 3.0],\n",
              "       ['Legal Department', 26.0, 14.0],\n",
              "       ['Payroll', 54.0, 11.0],\n",
              "       ['Public Relations', 31.0, 18.0],\n",
              "       ['Legal Department', 33.0, 2.0],\n",
              "       ['Media Relations', 48.0, 27.0],\n",
              "       ['Quality Assurance', 41.0, 20.0],\n",
              "       ['Human Resources', 44.0, 1.0],\n",
              "       ['Tech Support', 38.0, 28.0],\n",
              "       ['Accounting', 34.0, 11.0],\n",
              "       ['Quality Assurance', 28.0, 27.0],\n",
              "       ['Advertising', 23.0, 23.0],\n",
              "       ['Customer Relations', 52.0, 12.0],\n",
              "       ['Finances', 33.0, 22.0],\n",
              "       ['Human Resources', 45.0, 28.0],\n",
              "       ['Legal Department', 37.0, 30.0],\n",
              "       ['Research and Development', 26.0, 27.0],\n",
              "       ['Asset Management', 54.0, 19.0],\n",
              "       ['Tech Support', 51.0, 29.0],\n",
              "       ['Quality Assurance', 26.0, 20.0],\n",
              "       ['Accounting', 26.0, 10.0],\n",
              "       ['Customer Service', 35.0, 4.0],\n",
              "       ['Sales and Marketing', 38.0, 23.0],\n",
              "       ['Tech Support', 33.0, 14.0],\n",
              "       ['Advertising', 38.0, 17.0],\n",
              "       ['Accounting', 43.0, 21.0],\n",
              "       ['Accounting', 32.0, 7.0],\n",
              "       ['Media Relations', 32.0, 15.0],\n",
              "       ['Human Resources', 51.0, 7.0],\n",
              "       ['Public Relations', 25.0, 4.0],\n",
              "       ['Asset Management', 58.0, 23.0],\n",
              "       ['Accounting', 41.0, 25.0],\n",
              "       ['Finances', 25.0, 24.0],\n",
              "       ['Tech Support', 52.0, 16.0],\n",
              "       ['Customer Relations', 52.0, 3.0],\n",
              "       ['Quality Assurance', 30.0, 5.0],\n",
              "       ['Research and Development', 32.0, 27.0],\n",
              "       ['Quality Assurance', 46.0, 24.0]], dtype=object)"
            ]
          },
          "metadata": {},
          "execution_count": 5
        }
      ]
    },
    {
      "cell_type": "code",
      "source": [
        "from sklearn.impute import SimpleImputer\n",
        "imputer = SimpleImputer(missing_values=np.nan, strategy='mean')\n",
        "\n",
        "# Fit the imputer to the desired columns (here columns 1 to 3)\n",
        "imputer.fit(x[:, 1:3])\n",
        "\n",
        "# Transform the dataset by replacing missing values with the mean\n",
        "x[:, 1:3] = imputer.transform(x[:, 1:3])"
      ],
      "metadata": {
        "id": "SlNEljvnwFyN"
      },
      "execution_count": 6,
      "outputs": []
    },
    {
      "cell_type": "code",
      "source": [
        "imputer = SimpleImputer(missing_values=np.nan, strategy='median')\n",
        "\n",
        "# Fit the imputer to the desired columns (here columns 1 to 3)\n",
        "imputer.fit(x[:, 1:3])\n",
        "\n",
        "# Transform the dataset by replacing missing values with the mean\n",
        "x[:, 1:3] = imputer.transform(x[:, 1:3])"
      ],
      "metadata": {
        "id": "0U-kcv5-wIj1"
      },
      "execution_count": 7,
      "outputs": []
    },
    {
      "cell_type": "code",
      "source": [
        "x"
      ],
      "metadata": {
        "colab": {
          "base_uri": "https://localhost:8080/"
        },
        "id": "wPqVnlg5wLaw",
        "outputId": "4b1c1b06-3161-45dd-d2df-ac172c3ce7e0"
      },
      "execution_count": 8,
      "outputs": [
        {
          "output_type": "execute_result",
          "data": {
            "text/plain": [
              "array([['Asset Management', 38.0, 23.0],\n",
              "       ['Customer Service', 26.0, 10.0],\n",
              "       ['Human Resources', 40.93617021276596, 14.0],\n",
              "       ['Public Relations', 40.93617021276596, 12.0],\n",
              "       ['Customer Service', 40.93617021276596, 13.0],\n",
              "       ['Advertising', 40.93617021276596, 9.0],\n",
              "       ['Research and Development', 40.93617021276596, 24.0],\n",
              "       ['Asset Management', 40.93617021276596, 2.0],\n",
              "       ['Legal Department', 40.0, 30.0],\n",
              "       ['Advertising', 24.0, 23.0],\n",
              "       ['Legal Department', 35.0, 3.0],\n",
              "       [nan, 31.0, 15.781609195402298],\n",
              "       [nan, 58.0, 15.781609195402298],\n",
              "       [nan, 51.0, 15.781609195402298],\n",
              "       [nan, 27.0, 15.781609195402298],\n",
              "       [nan, 54.0, 15.781609195402298],\n",
              "       [nan, 55.0, 15.781609195402298],\n",
              "       ['Media Relations', 58.0, 15.781609195402298],\n",
              "       ['Research and Development', 59.0, 15.781609195402298],\n",
              "       ['Media Relations', 45.0, 4.0],\n",
              "       ['Sales and Marketing', 50.0, 2.0],\n",
              "       ['Advertising', 55.0, 19.0],\n",
              "       ['Tech Support', 40.0, 20.0],\n",
              "       ['Advertising', 51.0, 21.0],\n",
              "       ['Media Relations', 24.0, 12.0],\n",
              "       ['Asset Management', 57.0, 25.0],\n",
              "       ['Legal Department', 24.0, 9.0],\n",
              "       ['Public Relations', 46.0, 6.0],\n",
              "       ['Asset Management', 29.0, 26.0],\n",
              "       ['Customer Relations', 46.0, 13.0],\n",
              "       ['Quality Assurance', 30.0, 29.0],\n",
              "       ['Accounting', 57.0, 15.781609195402298],\n",
              "       [nan, 47.0, 15.781609195402298],\n",
              "       [nan, 41.0, 15.781609195402298],\n",
              "       [nan, 50.0, 15.781609195402298],\n",
              "       ['Public Relations', 49.0, 15.781609195402298],\n",
              "       ['Customer Relations', 28.0, 6.0],\n",
              "       ['Public Relations', 44.0, 29.0],\n",
              "       ['Finances', 40.0, 19.0],\n",
              "       ['Advertising', 30.0, 25.0],\n",
              "       ['Finances', 56.0, 21.0],\n",
              "       ['Accounting', 26.0, 24.0],\n",
              "       ['Finances', 44.0, 16.0],\n",
              "       ['Payroll', 36.0, 28.0],\n",
              "       ['Tech Support', 43.0, 24.0],\n",
              "       ['Finances', 47.0, 15.0],\n",
              "       ['Finances', 29.0, 11.0],\n",
              "       ['Customer Service', 52.0, 7.0],\n",
              "       ['Customer Relations', 42.0, 23.0],\n",
              "       ['Tech Support', 44.0, 5.0],\n",
              "       ['Finances', 23.0, 8.0],\n",
              "       ['Payroll', 57.0, 16.0],\n",
              "       ['Asset Management', 40.0, 9.0],\n",
              "       ['Media Relations', 28.0, 24.0],\n",
              "       ['Advertising', 53.0, 7.0],\n",
              "       ['Accounting', 56.0, 3.0],\n",
              "       ['Customer Relations', 48.0, 20.0],\n",
              "       ['Customer Service', 54.0, 7.0],\n",
              "       ['Media Relations', 37.0, 2.0],\n",
              "       ['Advertising', 57.0, 8.0],\n",
              "       ['Human Resources', 50.0, 17.0],\n",
              "       ['Legal Department', 46.0, 9.0],\n",
              "       ['Media Relations', 28.0, 3.0],\n",
              "       ['Legal Department', 26.0, 14.0],\n",
              "       ['Payroll', 54.0, 11.0],\n",
              "       ['Public Relations', 31.0, 18.0],\n",
              "       ['Legal Department', 33.0, 2.0],\n",
              "       ['Media Relations', 48.0, 27.0],\n",
              "       ['Quality Assurance', 41.0, 20.0],\n",
              "       ['Human Resources', 44.0, 1.0],\n",
              "       ['Tech Support', 38.0, 28.0],\n",
              "       ['Accounting', 34.0, 11.0],\n",
              "       ['Quality Assurance', 28.0, 27.0],\n",
              "       ['Advertising', 23.0, 23.0],\n",
              "       ['Customer Relations', 52.0, 12.0],\n",
              "       ['Finances', 33.0, 22.0],\n",
              "       ['Human Resources', 45.0, 28.0],\n",
              "       ['Legal Department', 37.0, 30.0],\n",
              "       ['Research and Development', 26.0, 27.0],\n",
              "       ['Asset Management', 54.0, 19.0],\n",
              "       ['Tech Support', 51.0, 29.0],\n",
              "       ['Quality Assurance', 26.0, 20.0],\n",
              "       ['Accounting', 26.0, 10.0],\n",
              "       ['Customer Service', 35.0, 4.0],\n",
              "       ['Sales and Marketing', 38.0, 23.0],\n",
              "       ['Tech Support', 33.0, 14.0],\n",
              "       ['Advertising', 38.0, 17.0],\n",
              "       ['Accounting', 43.0, 21.0],\n",
              "       ['Accounting', 32.0, 7.0],\n",
              "       ['Media Relations', 32.0, 15.0],\n",
              "       ['Human Resources', 51.0, 7.0],\n",
              "       ['Public Relations', 25.0, 4.0],\n",
              "       ['Asset Management', 58.0, 23.0],\n",
              "       ['Accounting', 41.0, 25.0],\n",
              "       ['Finances', 25.0, 24.0],\n",
              "       ['Tech Support', 52.0, 16.0],\n",
              "       ['Customer Relations', 52.0, 3.0],\n",
              "       ['Quality Assurance', 30.0, 5.0],\n",
              "       ['Research and Development', 32.0, 27.0],\n",
              "       ['Quality Assurance', 46.0, 24.0]], dtype=object)"
            ]
          },
          "metadata": {},
          "execution_count": 8
        }
      ]
    }
  ]
}